{
 "cells": [
  {
   "cell_type": "markdown",
   "metadata": {
    "ein.tags": "worksheet-0",
    "slideshow": {
     "slide_type": "-"
    }
   },
   "source": []
  },
  {
   "cell_type": "code",
   "execution_count": 2,
   "metadata": {
    "autoscroll": false,
    "collapsed": false,
    "ein.hycell": false,
    "ein.tags": "worksheet-0",
    "slideshow": {
     "slide_type": "-"
    }
   },
   "outputs": [],
   "source": [
    "import numpy as np\n",
    "import scipy\n"
   ]
  },
  {
   "cell_type": "code",
   "execution_count": 4,
   "metadata": {
    "autoscroll": false,
    "collapsed": false,
    "ein.hycell": false,
    "ein.tags": "worksheet-0",
    "slideshow": {
     "slide_type": "-"
    }
   },
   "outputs": [
    {
     "name": "stdout",
     "output_type": "stream",
     "text": [
      "a =  [ 3.          0.          0.          0.          0.          0.\n",
      " -1.         -0.77777778 -0.55555556 -0.33333333 -0.11111111  0.11111111\n",
      "  0.33333333  0.55555556  0.77777778  1.        ]\n",
      "np.r_[3,[0]*5,-1:1:10j] =  [ 3.          0.          0.          0.          0.          0.\n",
      " -1.         -0.77777778 -0.55555556 -0.33333333 -0.11111111  0.11111111\n",
      "  0.33333333  0.55555556  0.77777778  1.        ]\n"
     ]
    }
   ],
   "source": [
    "a = np.concatenate(([3], [0]*5, np.arange(-1, 1.002, 2/9.0)))\n",
    "print(\"a = \", a)\n",
    "\n",
    "print(\"np.r_[3,[0]*5,-1:1:10j] = \", np.r_[3,[0]*5,-1:1:10j])"
   ]
  },
  {
   "cell_type": "code",
   "execution_count": 5,
   "metadata": {
    "autoscroll": false,
    "collapsed": false,
    "ein.hycell": false,
    "ein.tags": "worksheet-0",
    "slideshow": {
     "slide_type": "-"
    }
   },
   "outputs": [
    {
     "name": "stdout",
     "output_type": "stream",
     "text": [
      "np.mgrid[0:5:4j,0:5:4j] =  [[[0.         0.         0.         0.        ]\n",
      "  [1.66666667 1.66666667 1.66666667 1.66666667]\n",
      "  [3.33333333 3.33333333 3.33333333 3.33333333]\n",
      "  [5.         5.         5.         5.        ]]\n",
      "\n",
      " [[0.         1.66666667 3.33333333 5.        ]\n",
      "  [0.         1.66666667 3.33333333 5.        ]\n",
      "  [0.         1.66666667 3.33333333 5.        ]\n",
      "  [0.         1.66666667 3.33333333 5.        ]]]\n"
     ]
    }
   ],
   "source": [
    "print(\"np.mgrid[0:5:4j,0:5:4j] = \", np.mgrid[0:5:4j,0:5:4j])"
   ]
  },
  {
   "cell_type": "code",
   "execution_count": 10,
   "metadata": {
    "autoscroll": false,
    "collapsed": false,
    "ein.hycell": false,
    "ein.tags": "worksheet-0",
    "slideshow": {
     "slide_type": "-"
    }
   },
   "outputs": [
    {
     "name": "stdout",
     "output_type": "stream",
     "text": [
      "p =     2\n",
      "3 x + 4 x + 5\n",
      "p*p=    4      3      2\n",
      "9 x + 24 x + 46 x + 40 x + 25\n",
      "p.integ(k=6) =     3     2\n",
      "1 x + 2 x + 5 x + 6\n"
     ]
    }
   ],
   "source": [
    "\n",
    "p = np.poly1d([3,4,5])\n",
    "print(\"p = \", p)\n",
    "print(\"p*p=\", p*p)\n",
    "\n",
    "print('p.integ(k=6) = ', p.integ(k=6))\n"
   ]
  }
 ],
 "metadata": {
  "kernelspec": {
   "display_name": "Python 3",
   "name": "python3"
  },
  "name": "scipy_example.ipynb",
  "nikola": {
   "category": "",
   "date": "2019-01-18 10:26:50 UTC+08:00",
   "description": "",
   "link": "",
   "slug": "scipy_example",
   "tags": "",
   "title": "scipy_example",
   "type": "text"
  }
 },
 "nbformat": 4,
 "nbformat_minor": 2
}

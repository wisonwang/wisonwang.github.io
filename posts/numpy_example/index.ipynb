{
 "cells": [
  {
   "cell_type": "markdown",
   "metadata": {
    "ein.tags": "worksheet-0",
    "slideshow": {
     "slide_type": "-"
    }
   },
   "source": [
    "\n",
    "介绍numpy/scipy库的基本用法.\n",
    "\n",
    "<!-- TEASER_END -->"
   ]
  },
  {
   "cell_type": "code",
   "execution_count": 5,
   "metadata": {
    "autoscroll": false,
    "collapsed": false,
    "ein.hycell": false,
    "ein.tags": "worksheet-0",
    "slideshow": {
     "slide_type": "-"
    }
   },
   "outputs": [],
   "source": [
    "import numpy as np\n",
    "import scipy\n"
   ]
  },
  {
   "cell_type": "code",
   "execution_count": 3,
   "metadata": {
    "autoscroll": false,
    "collapsed": false,
    "ein.hycell": false,
    "ein.tags": "worksheet-0",
    "slideshow": {
     "slide_type": "-"
    }
   },
   "outputs": [
    {
     "name": "stdout",
     "output_type": "stream",
     "text": [
      "[[ 0  1  2  3  4]\n",
      " [ 5  6  7  8  9]\n",
      " [10 11 12 13 14]]\n"
     ]
    }
   ],
   "source": [
    "\n",
    "# arange 函数, 生成多维数组\n",
    "a = np.arange(15).reshape(3, 5)\n",
    "print(a)\n",
    "\n"
   ]
  },
  {
   "cell_type": "code",
   "execution_count": 20,
   "metadata": {
    "autoscroll": false,
    "collapsed": false,
    "ein.hycell": false,
    "ein.tags": "worksheet-0",
    "slideshow": {
     "slide_type": "-"
    }
   },
   "outputs": [
    {
     "name": "stdout",
     "output_type": "stream",
     "text": [
      "每个元素内存大小(单位是byte, int64 是64bit, 64/8=8byte): 8\n",
      "纬度(3行5列，表示为二维数组，所以纬度是2): 2\n",
      "元素类型 int64\n",
      "总元素大小 15\n"
     ]
    }
   ],
   "source": [
    "print(\"每个元素内存大小(单位是byte, int64 是64bit, 64/8=8byte):\", a.itemsize)\n",
    "print(\"纬度(3行5列，表示为二维数组，所以纬度是2):\", a.ndim)\n",
    "print(\"元素类型\", a.dtype)\n",
    "print(\"总元素大小\", a.size)"
   ]
  },
  {
   "cell_type": "code",
   "execution_count": 37,
   "metadata": {
    "autoscroll": false,
    "collapsed": false,
    "ein.hycell": false,
    "ein.tags": "worksheet-0",
    "slideshow": {
     "slide_type": "-"
    }
   },
   "outputs": [
    {
     "name": "stdout",
     "output_type": "stream",
     "text": [
      "一维数组: [1 2 3 4] 1\n",
      "二维数组：  [[1.5 2.  3. ]\n",
      " [4.  5.  6. ]] 2\n",
      "指定数据类型为复数: [[1.+0.j 2.+0.j]\n",
      " [3.+0.j 4.+0.j]]\n",
      "生成值全部是0的数组:  [[0. 0. 0. 0.]\n",
      " [0. 0. 0. 0.]\n",
      " [0. 0. 0. 0.]]\n",
      "生成值全部是1的数组:  [[1. 1. 1. 1.]\n",
      " [1. 1. 1. 1.]\n",
      " [1. 1. 1. 1.]]\n",
      "生成未初始化值的数组:  [[1.5 2.  3. ]\n",
      " [4.  5.  6. ]]\n",
      "生成一定步长的连续数组: [10 15 20 25 30 35 40 45 50 55 60 65 70 75 80 85 90 95]\n",
      "更改数组纬度: [[   0    1    2 ...   97   98   99]\n",
      " [ 100  101  102 ...  197  198  199]\n",
      " [ 200  201  202 ...  297  298  299]\n",
      " ...\n",
      " [9700 9701 9702 ... 9797 9798 9799]\n",
      " [9800 9801 9802 ... 9897 9898 9899]\n",
      " [9900 9901 9902 ... 9997 9998 9999]]\n"
     ]
    }
   ],
   "source": [
    "# 可以直接使用python 本身的list创建数组\n",
    "\n",
    "a = np.array([1, 2, 3, 4])\n",
    "\n",
    "print(\"一维数组:\", a, a.ndim)\n",
    "\n",
    "b = np.array([(1.5,2,3), (4,5,6)])\n",
    "print(\"二维数组： \", b, b.ndim)\n",
    "\n",
    "# 指定数据类型\n",
    "c = np.array( [ [1,2], [3,4] ], dtype=complex )\n",
    "print(\"指定数据类型为复数:\", c)\n",
    "\n",
    "\n",
    "# 还有一些快速生成一定规则数组的方法\n",
    "print(\"生成值全部是0的数组: \", np.zeros((3, 4)))\n",
    "print(\"生成值全部是1的数组: \", np.ones((3, 4)))\n",
    "print(\"生成未初始化值的数组: \", np.empty((2, 3)))\n",
    "\n",
    "print(\"生成一定步长的连续数组:\", np.arange(10, 100, 5))\n",
    "\n",
    "print( \"更改数组纬度:\", np.arange(10000).reshape(100,100))\n"
   ]
  },
  {
   "cell_type": "code",
   "execution_count": 3,
   "metadata": {
    "autoscroll": false,
    "collapsed": false,
    "ein.hycell": false,
    "ein.tags": "worksheet-0",
    "slideshow": {
     "slide_type": "-"
    }
   },
   "outputs": [
    {
     "name": "stdout",
     "output_type": "stream",
     "text": [
      "a-b= [20 29 38 47]\n",
      "a*2= [ 40  60  80 100]\n",
      "b**2 =  [0 1 4 9]\n",
      "sin(a) =  [ 0.91294525 -0.98803162  0.74511316 -0.26237485]\n",
      "cos(a) =  [ 0.40808206  0.15425145 -0.66693806  0.96496603]\n",
      "a < 35 =  [ True  True False False]\n"
     ]
    }
   ],
   "source": [
    "# 加减运算\n",
    "a = np.array( [20,30,40,50] )\n",
    "b = np.arange(4)\n",
    "\n",
    "print(\"a-b=\", a-b)\n",
    "print(\"a*2=\", a*2)\n",
    "\n",
    "print(\"b**2 = \", b**2)\n",
    "print(\"sin(a) = \", np.sin(a))\n",
    "print(\"cos(a) = \", np.cos(a))\n",
    "\n",
    "print(\"a < 35 = \", a<35)"
   ]
  },
  {
   "cell_type": "code",
   "execution_count": 50,
   "metadata": {
    "autoscroll": false,
    "collapsed": false,
    "ein.hycell": false,
    "ein.tags": "worksheet-0",
    "slideshow": {
     "slide_type": "-"
    }
   },
   "outputs": [
    {
     "name": "stdout",
     "output_type": "stream",
     "text": [
      "A:  [[0 1]\n",
      " [2 3]]\n",
      "B:  [[4 5]\n",
      " [6 7]]\n"
     ]
    }
   ],
   "source": [
    "A = np.arange(0, 4, 1).reshape(2, 2)\n",
    "B = np.arange(4, 8, 1).reshape(2, 2)\n",
    "\n",
    "print(\"A: \", A)\n",
    "print(\"B: \", B)"
   ]
  },
  {
   "cell_type": "code",
   "execution_count": 2,
   "metadata": {
    "autoscroll": false,
    "collapsed": false,
    "ein.hycell": false,
    "ein.tags": "worksheet-0",
    "slideshow": {
     "slide_type": "-"
    }
   },
   "outputs": [
    {
     "name": "stdout",
     "output_type": "stream",
     "text": [
      "a+b= [1.         2.57079633 4.14159265]\n"
     ]
    }
   ],
   "source": [
    "a = np.ones(3, dtype=np.int32)\n",
    "b = np.linspace(0, np.pi, 3)\n",
    "\n",
    "print(\"a+b=\", a+b)\n"
   ]
  },
  {
   "cell_type": "code",
   "execution_count": 11,
   "metadata": {
    "autoscroll": false,
    "collapsed": false,
    "ein.hycell": false,
    "ein.tags": "worksheet-0",
    "slideshow": {
     "slide_type": "-"
    }
   },
   "outputs": [
    {
     "name": "stdout",
     "output_type": "stream",
     "text": [
      "a= [[0 1 2]\n",
      " [3 4 5]]\n",
      "a.sum= 15\n",
      "a.min= 0\n",
      "a.max= 5\n",
      "a.sum of each column [3 5 7]\n",
      "a.sum of each row [ 3 12]\n",
      "a cumulative sum of cumulative each column [[0 1 2]\n",
      " [3 5 7]]\n",
      "a cumulative sum of cumulative each row [[ 0  1  3]\n",
      " [ 3  7 12]]\n"
     ]
    }
   ],
   "source": [
    "\n",
    "a = np.arange(6).reshape(2,3)\n",
    "print(\"a=\", a)\n",
    "\n",
    "print(\"a.sum=\", a.sum())\n",
    "\n",
    "\n",
    "print(\"a.min=\", a.min())\n",
    "\n",
    "print(\"a.max=\", a.max())\n",
    "\n",
    "print(\"a.sum of each column\", a.sum(axis=0))\n",
    "print(\"a.sum of each row\", a.sum(axis=1))\n",
    "print(\"a cumulative sum of cumulative each column\", a.cumsum(axis=0))\n",
    "\n",
    "print(\"a cumulative sum of cumulative each row\", a.cumsum(axis=1))\n",
    "\n"
   ]
  },
  {
   "cell_type": "code",
   "execution_count": 14,
   "metadata": {
    "autoscroll": false,
    "collapsed": false,
    "ein.hycell": false,
    "ein.tags": "worksheet-0",
    "slideshow": {
     "slide_type": "-"
    }
   },
   "outputs": [
    {
     "name": "stdout",
     "output_type": "stream",
     "text": [
      "B= [0 1 2]\n",
      "np.exp(B)= [1.         2.71828183 7.3890561 ]\n",
      "np.sqrt(B)= [0.         1.         1.41421356]\n"
     ]
    }
   ],
   "source": [
    "B = np.arange(3)\n",
    "print(\"B=\", B)\n",
    "\n",
    "print(\"np.exp(B)=\", np.exp(B))\n",
    "print(\"np.sqrt(B)=\", np.sqrt(B))"
   ]
  },
  {
   "cell_type": "code",
   "execution_count": 21,
   "metadata": {
    "autoscroll": false,
    "collapsed": false,
    "ein.hycell": false,
    "ein.tags": "worksheet-0",
    "slideshow": {
     "slide_type": "-"
    }
   },
   "outputs": [
    {
     "name": "stdout",
     "output_type": "stream",
     "text": [
      "a= [  0   1   8  27  64 125 216 343 512 729]\n",
      "a[2]= 8\n",
      "a[2:5]= [ 8 27 64]\n",
      "a after a[:6:2] = -1000:  [-1000     1 -1000    27 -1000   125   216   343   512   729]\n",
      "a[ : :-1] =  [  729   512   343   216   125 -1000    27 -1000     1 -1000]\n"
     ]
    }
   ],
   "source": [
    "a = np.arange(10)**3\n",
    "print(\"a=\", a)\n",
    "print(\"a[2]=\", a[2])\n",
    "print(\"a[2:5]=\", a[2:5])\n",
    "\n",
    "a[:6:2] = -1000\n",
    "print(\"a after a[:6:2] = -1000: \", a)\n",
    "print(\"a[ : :-1] = \", a[ : :-1])\n"
   ]
  },
  {
   "cell_type": "code",
   "execution_count": 27,
   "metadata": {
    "autoscroll": false,
    "collapsed": false,
    "ein.hycell": false,
    "ein.tags": "worksheet-0",
    "slideshow": {
     "slide_type": "-"
    }
   },
   "outputs": [
    {
     "name": "stdout",
     "output_type": "stream",
     "text": [
      "通过函数,输入行列坐标，生成二维数组: [[ 0  1  2  3]\n",
      " [10 11 12 13]\n",
      " [20 21 22 23]\n",
      " [30 31 32 33]\n",
      " [40 41 42 43]]\n",
      "b[2, 3]= 23\n",
      "b[0:5, 1]= [ 1 11 21 31 41]\n"
     ]
    }
   ],
   "source": [
    "def f(x,y):\n",
    "    return 10*x+y\n",
    "\n",
    "b = np.fromfunction(f,(5,4),dtype=int)\n",
    "print(\"通过函数,输入行列坐标，生成二维数组:\", b)\n",
    "\n",
    "print(\"b[2, 3]=\", b[2, 3])\n",
    "print(\"b[0:5, 1]=\", b[0:5, 1])"
   ]
  },
  {
   "cell_type": "code",
   "execution_count": 35,
   "metadata": {
    "autoscroll": false,
    "collapsed": false,
    "ein.hycell": false,
    "ein.tags": "worksheet-0",
    "slideshow": {
     "slide_type": "-"
    }
   },
   "outputs": [
    {
     "name": "stdout",
     "output_type": "stream",
     "text": [
      "c= [[[ 0  1  2]\n",
      "  [ 3  4  5]]\n",
      "\n",
      " [[ 6  7  8]\n",
      "  [ 9 10 11]]]\n",
      "c[1, ...]= [[ 6  7  8]\n",
      " [ 9 10 11]]\n",
      "c[..., 2]= [[ 2  5]\n",
      " [ 8 11]]\n",
      "c.flat= [0, 1, 2, 3, 4, 5, 6, 7, 8, 9, 10, 11]\n"
     ]
    }
   ],
   "source": [
    "\n",
    "c = np.arange(12).reshape((2, 2,3))\n",
    "print(\"c=\",c)\n",
    "print('c[1, ...]=', c[1,...])\n",
    "print('c[..., 2]=', c[...,2])\n",
    "\n",
    "print('c.flat=', [e for e in c.flat])"
   ]
  },
  {
   "cell_type": "code",
   "execution_count": 45,
   "metadata": {
    "autoscroll": false,
    "collapsed": false,
    "ein.hycell": false,
    "ein.tags": "worksheet-0",
    "slideshow": {
     "slide_type": "-"
    }
   },
   "outputs": [
    {
     "name": "stdout",
     "output_type": "stream",
     "text": [
      "a= [[8. 4.]\n",
      " [6. 0.]]\n",
      "b= [[5. 8.]\n",
      " [9. 4.]]\n",
      "np.vstack((a,b)) [[8. 4.]\n",
      " [6. 0.]\n",
      " [5. 8.]\n",
      " [9. 4.]]\n",
      "np.hstack((a,b)) [[8. 4. 5. 8.]\n",
      " [6. 0. 9. 4.]]\n",
      "np.concatenate((a, b), axis=0)= [[8. 4.]\n",
      " [6. 0.]\n",
      " [5. 8.]\n",
      " [9. 4.]]\n"
     ]
    }
   ],
   "source": [
    "# 多维数组栈/拼接操作\n",
    "\n",
    "a = np.floor(10* np.random.random((2, 2)))\n",
    "b = np.floor(10* np.random.random((2, 2)))\n",
    "\n",
    "print(\"a=\", a)\n",
    "print(\"b=\", b)\n",
    "\n",
    "print(\"np.vstack((a,b))\", np.vstack((a,b)))\n",
    "print(\"np.hstack((a,b))\", np.hstack((a,b)))\n",
    "\n",
    "print(\"np.concatenate((a, b), axis=0)=\", np.concatenate((a, b), axis=0))\n"
   ]
  },
  {
   "cell_type": "code",
   "execution_count": 49,
   "metadata": {
    "autoscroll": false,
    "collapsed": false,
    "ein.hycell": false,
    "ein.tags": "worksheet-0",
    "slideshow": {
     "slide_type": "-"
    }
   },
   "outputs": [
    {
     "name": "stdout",
     "output_type": "stream",
     "text": [
      "np.array_split(a, 4 , axis=1)= [array([[8., 8., 5.],\n",
      "       [4., 0., 9.],\n",
      "       [2., 6., 3.],\n",
      "       [0., 3., 0.]]), array([[3., 3., 1.],\n",
      "       [3., 9., 2.],\n",
      "       [6., 4., 4.],\n",
      "       [9., 3., 8.]]), array([[6., 4., 4.],\n",
      "       [5., 1., 6.],\n",
      "       [0., 4., 4.],\n",
      "       [0., 7., 6.]]), array([[8., 8., 3.],\n",
      "       [0., 8., 1.],\n",
      "       [6., 0., 5.],\n",
      "       [2., 9., 9.]])]\n"
     ]
    }
   ],
   "source": [
    "# spliting\n",
    "\n",
    "a = np.floor(10*np.random.random((4,12)))\n",
    "\n",
    "print(\"np.array_split(a, 4 , axis=1)=\", np.array_split(a, 4 , axis=1))"
   ]
  },
  {
   "cell_type": "code",
   "execution_count": 64,
   "metadata": {
    "autoscroll": false,
    "collapsed": false,
    "ein.hycell": false,
    "ein.tags": "worksheet-0",
    "slideshow": {
     "slide_type": "-"
    }
   },
   "outputs": [
    {
     "name": "stdout",
     "output_type": "stream",
     "text": [
      "a= [ 0  1  2  3  4  5  6  7  8  9 10 11]\n",
      "b is a= True\n",
      "c is a = False\n",
      "c.base is a = True\n",
      "c.flags.owndata =  False\n",
      "d is a = False\n",
      "d.base is a = True\n",
      "d.flags.owndata =  False\n",
      "a= [[ 0  1  2  3]\n",
      " [ 4  5  6  7]\n",
      " [ 8  9 10 11]]\n",
      "e is a =  False\n"
     ]
    }
   ],
   "source": [
    "# array copy\n",
    "\n",
    "a= np.arange(12)\n",
    "print(\"a=\", a)\n",
    "b = a\n",
    "b.shape = 3, 4\n",
    "\n",
    "print(\"b is a=\", b is a)\n",
    "\n",
    "c = a.view()\n",
    "\n",
    "print(\"c is a =\", c is a)\n",
    "print(\"c.base is a =\", c.base is a)\n",
    "\n",
    "print(\"c.flags.owndata = \", c.flags.owndata)\n",
    "\n",
    "d = a[:, 1:3]\n",
    "\n",
    "print(\"d is a =\", d is a)\n",
    "print(\"d.base is a =\", d.base is a)\n",
    "\n",
    "print(\"d.flags.owndata = \", d.flags.owndata)\n",
    "print(\"a=\", a)\n",
    "\n",
    "e = a.copy()\n",
    "print(\"e is a = \", e is a)"
   ]
  },
  {
   "cell_type": "code",
   "execution_count": 67,
   "metadata": {
    "autoscroll": false,
    "collapsed": false,
    "ein.hycell": false,
    "ein.tags": "worksheet-0",
    "slideshow": {
     "slide_type": "-"
    }
   },
   "outputs": [
    {
     "name": "stdout",
     "output_type": "stream",
     "text": [
      "a= [[ 0  1  2  3]\n",
      " [ 4  5  6  7]\n",
      " [ 8  9 10 11]]\n",
      "b= [[False False False False]\n",
      " [False  True  True  True]\n",
      " [ True  True  True  True]]\n",
      "a[b]= [ 5  6  7  8  9 10 11]\n",
      "after a[b] = 0, a =  [[0 1 2 3]\n",
      " [4 0 0 0]\n",
      " [0 0 0 0]]\n"
     ]
    }
   ],
   "source": [
    "# fancy indexing and index tricks\n",
    "\n",
    "a = np.arange(12).reshape(3,4)\n",
    "b = a > 4\n",
    "\n",
    "print(\"a=\", a)\n",
    "print(\"b=\", b)\n",
    "print(\"a[b]=\", a[b])\n",
    "\n",
    "a[b] = 0\n",
    "print(\"after a[b] = 0, a = \", a)\n"
   ]
  },
  {
   "cell_type": "code",
   "execution_count": 101,
   "metadata": {
    "autoscroll": false,
    "collapsed": false,
    "ein.hycell": false,
    "ein.tags": "worksheet-0",
    "slideshow": {
     "slide_type": "-"
    }
   },
   "outputs": [
    {
     "data": {
      "image/png": "[encoded data removed]",
      "text/plain": [
       "<Figure size 432x288 with 1 Axes>"
      ]
     },
     "metadata": {},
     "output_type": "display_data"
    }
   ],
   "source": [
    "# 利用boolean类型的索引生成 Mandelbrot（曼德勃罗图像）\n",
    "import matplotlib.pyplot as plt\n",
    "def mandelbrot( h,w, maxit=20 ):\n",
    "    \"\"\"Returns an image of the Mandelbrot fractal of size (h,w).\"\"\"\n",
    "    y,x = np.ogrid[ -1.4:1.4:h*1j, -2:0.8:w*1j ]\n",
    "    c = x+y*1j\n",
    "    z=c\n",
    "    # print(id(z), id(c))\n",
    "    divtime = maxit + np.zeros(z.shape, dtype=int) \n",
    "    for i in range(maxit):\n",
    "        z = z**2 + c\n",
    "        diverge = z*np.conj(z) > 2**2 # who is diverging\n",
    "        div_now = diverge & (divtime==maxit) # who is diverging now\n",
    "        divtime[div_now] = i\n",
    "        z[diverge] = 2\n",
    "    return divtime\n",
    "plt.imshow(mandelbrot(800,800, 20))\n",
    "plt.show()"
   ]
  },
  {
   "cell_type": "code",
   "execution_count": 105,
   "metadata": {
    "autoscroll": false,
    "collapsed": false,
    "ein.hycell": false,
    "ein.tags": "worksheet-0",
    "slideshow": {
     "slide_type": "-"
    }
   },
   "outputs": [
    {
     "data": {
      "image/png": "[encoded data removed]",
      "text/plain": [
       "<Figure size 432x288 with 1 Axes>"
      ]
     },
     "metadata": {},
     "output_type": "display_data"
    }
   ],
   "source": [
    "import matplotlib.pyplot as plt\n",
    "rng = np.random.RandomState(10)  # deterministic random data\n",
    "#print(rng.normal(size=1000))\n",
    "a = np.hstack((rng.normal(size=1000), rng.normal(loc=5, scale=2, size=1000)))\n",
    "\n",
    "plt.hist(a, bins='auto')  # arguments are passed to np.histogram\n",
    "plt.title(\"Histogram with 'auto' bins\")\n",
    "plt.show()"
   ]
  }
 ],
 "metadata": {
  "kernelspec": {
   "argv": [
    "/home/vincent/.pyenv/shims/python3",
    "-m",
    "ipykernel",
    "-f",
    "{connection_file}"
   ],
   "display_name": "Python3",
   "env": null,
   "language": "python",
   "name": "python3"
  },
  "language_info": {
   "codemirror_mode": {
    "name": "ipython",
    "version": 3
   },
   "file_extension": ".py",
   "mimetype": "text/x-python",
   "name": "python",
   "nbconvert_exporter": "python",
   "pygments_lexer": "ipython3",
   "version": "3.6.8"
  },
  "name": "numpy_example.ipynb",
  "nbTranslate": {
   "displayLangs": [
    "*"
   ],
   "hotkey": "alt-t",
   "langInMainMenu": true,
   "sourceLang": "en",
   "targetLang": "fr",
   "useGoogleTranslate": true
  },
  "nikola": {
   "category": "",
   "date": "2018-05-22 16:58:15 UTC+08:00",
   "description": "",
   "link": "",
   "slug": "numpy_example",
   "tags": "",
   "title": "numpy_example",
   "type": "text"
  }
 },
 "nbformat": 4,
 "nbformat_minor": 2
}

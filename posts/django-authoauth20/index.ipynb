{
 "cells": [
  {
   "cell_type": "code",
   "execution_count": null,
   "metadata": {
    "autoscroll": false,
    "collapsed": false,
    "ein.hycell": false,
    "ein.tags": "worksheet-0",
    "slideshow": {
     "slide_type": "-"
    }
   },
   "outputs": [],
   "source": [
    "\n",
    "import requests\n",
    "import urllib\n",
    "\n"
   ]
  }
 ],
 "metadata": {
  "kernelspec": {
   "display_name": "Python 3",
   "name": "python3"
  },
  "name": "django-authoauth20.ipynb",
  "nikola": {
   "category": "",
   "date": "2019-03-28 17:09:24 UTC+08:00",
   "description": "",
   "link": "",
   "slug": "django-authoauth20",
   "tags": "draft",
   "title": "django auth&oauth2.0",
   "type": "text"
  }
 },
 "nbformat": 4,
 "nbformat_minor": 2
}

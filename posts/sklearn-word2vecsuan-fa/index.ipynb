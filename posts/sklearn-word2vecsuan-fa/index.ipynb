{
 "cells": [
  {
   "cell_type": "code",
   "execution_count": 1,
   "metadata": {
    "autoscroll": false,
    "collapsed": false,
    "ein.hycell": false,
    "ein.tags": "worksheet-0",
    "slideshow": {
     "slide_type": "-"
    }
   },
   "outputs": [
    {
     "data": {
      "text/plain": [
       "['',\n",
       " '/anaconda3/envs/py36spark21/lib/python36.zip',\n",
       " '/anaconda3/envs/py36spark21/lib/python3.6',\n",
       " '/anaconda3/envs/py36spark21/lib/python3.6/lib-dynload',\n",
       " '/anaconda3/envs/py36spark21/lib/python3.6/site-packages',\n",
       " '/anaconda3/envs/py36spark21/lib/python3.6/site-packages/IPython/extensions',\n",
       " '/Users/vincent/.ipython']"
      ]
     },
     "execution_count": 1,
     "metadata": {},
     "output_type": "execute_result"
    }
   ],
   "source": [
    "import sklearn\n",
    "\n",
    "import sys\n",
    "\n",
    "sys.path\n"
   ]
  }
 ],
 "metadata": {
  "kernelspec": {
   "display_name": "Python 3",
   "name": "python3"
  },
  "name": "sklearn-word2vecsuan-fa.ipynb",
  "nikola": {
   "category": "",
   "date": "2019-01-21 11:06:35 UTC+08:00",
   "description": "",
   "link": "",
   "slug": "sklearn-word2vecsuan-fa",
   "tags": "draft",
   "title": "sklearn word2vec算法",
   "type": "text"
  }
 },
 "nbformat": 4,
 "nbformat_minor": 2
}

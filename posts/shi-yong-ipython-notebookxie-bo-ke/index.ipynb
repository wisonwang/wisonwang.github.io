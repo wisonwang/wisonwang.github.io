{
 "cells": [
  {
   "cell_type": "markdown",
   "metadata": {
    "ein.tags": "worksheet-0",
    "slideshow": {
     "slide_type": "-"
    }
   },
   "source": [
    "\n",
    " 测试notebook\n",
    "\n",
    "* aaaa\n",
    "\n",
    "* bbb\n",
    "\n"
   ]
  },
  {
   "cell_type": "code",
   "execution_count": 5,
   "metadata": {
    "autoscroll": false,
    "collapsed": false,
    "ein.hycell": false,
    "ein.tags": "worksheet-0",
    "slideshow": {
     "slide_type": "-"
    }
   },
   "outputs": [
    {
     "name": "stdout",
     "output_type": "stream",
     "text": [
      "lilei says hello !\n"
     ]
    }
   ],
   "source": [
    "\n",
    "def SayHello(name):\n",
    "    print(\"{0} says hello !\".format(name))\n",
    "\n",
    "\n",
    "SayHello(\"lilei\")\n",
    "\n"
   ]
  }
 ],
 "metadata": {
  "kernelspec": {
   "display_name": "Python 3",
   "name": "python3"
  },
  "name": "shi-yong-ipython-notebookxie-bo-ke.ipynb",
  "nikola": {
   "category": "",
   "date": "2019-01-09 22:52:30 UTC+08:00",
   "description": "",
   "link": "",
   "slug": "shi-yong-ipython-notebookxie-bo-ke",
   "tags": "draft",
   "title": "使用ipython-notebook写博客",
   "type": "text"
  }
 },
 "nbformat": 4,
 "nbformat_minor": 2
}

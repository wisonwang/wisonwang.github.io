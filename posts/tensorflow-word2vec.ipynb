{
 "cells": [
  {
   "cell_type": "markdown",
   "metadata": {
    "ein.tags": "worksheet-0",
    "slideshow": {
     "slide_type": "-"
    }
   },
   "source": [
    "\n",
    "使用tensorflow演示word2vec算法.\n",
    "<!-- TEASER_END -->"
   ]
  },
  {
   "cell_type": "code",
   "execution_count": 1,
   "metadata": {
    "autoscroll": false,
    "collapsed": false,
    "ein.hycell": false,
    "ein.tags": "worksheet-0",
    "slideshow": {
     "slide_type": "-"
    }
   },
   "outputs": [
    {
     "name": "stderr",
     "output_type": "stream",
     "text": [
      "/home/vincent/.pyenv/versions/anaconda3-5.0.0/lib/python3.6/site-packages/h5py/__init__.py:34: FutureWarning: Conversion of the second argument of issubdtype from `float` to `np.floating` is deprecated. In future, it will be treated as `np.float64 == np.dtype(float).type`.\n",
      "  from ._conv import register_converters as _register_converters\n"
     ]
    },
    {
     "ename": "ModuleNotFoundError",
     "evalue": "No module named 'tensorflow.contrib'",
     "output_type": "error",
     "traceback": [
      "\u001b[0;31m---------------------------------------------------------------------------\u001b[0m",
      "\u001b[0;31mModuleNotFoundError\u001b[0m                       Traceback (most recent call last)",
      "\u001b[0;32m<ipython-input-1-2f416a8e8068>\u001b[0m in \u001b[0;36m<module>\u001b[0;34m()\u001b[0m\n\u001b[1;32m     19\u001b[0m \u001b[0;32mimport\u001b[0m \u001b[0mtensorflow\u001b[0m \u001b[0;32mas\u001b[0m \u001b[0mtf\u001b[0m\u001b[0;34m\u001b[0m\u001b[0m\n\u001b[1;32m     20\u001b[0m \u001b[0;34m\u001b[0m\u001b[0m\n\u001b[0;32m---> 21\u001b[0;31m \u001b[0;32mfrom\u001b[0m \u001b[0mtensorflow\u001b[0m\u001b[0;34m.\u001b[0m\u001b[0mcontrib\u001b[0m\u001b[0;34m.\u001b[0m\u001b[0mtensorboard\u001b[0m\u001b[0;34m.\u001b[0m\u001b[0mplugins\u001b[0m \u001b[0;32mimport\u001b[0m \u001b[0mprojector\u001b[0m\u001b[0;34m\u001b[0m\u001b[0m\n\u001b[0m\u001b[1;32m     22\u001b[0m \u001b[0;34m\u001b[0m\u001b[0m\n\u001b[1;32m     23\u001b[0m \u001b[0mdata_index\u001b[0m \u001b[0;34m=\u001b[0m \u001b[0;36m0\u001b[0m\u001b[0;34m\u001b[0m\u001b[0m\n",
      "\u001b[0;31mModuleNotFoundError\u001b[0m: No module named 'tensorflow.contrib'"
     ]
    }
   ],
   "source": [
    "\n",
    "\n",
    "from __future__ import absolute_import\n",
    "from __future__ import division\n",
    "from __future__ import print_function\n",
    "\n",
    "import argparse\n",
    "import collections\n",
    "import math\n",
    "import os\n",
    "import random\n",
    "import sys\n",
    "from tempfile import gettempdir\n",
    "import zipfile\n",
    "\n",
    "import numpy as np\n",
    "from six.moves import urllib\n",
    "from six.moves import xrange  # pylint: disable=redefined-builtin\n",
    "import tensorflow as tf\n",
    "\n",
    "from tensorflow.contrib.tensorboard.plugins import projector\n",
    "\n",
    "data_index = 0\n",
    "\n",
    "\n",
    "def word2vec_basic(log_dir):\n",
    "  \"\"\"Example of building, training and visualizing a word2vec model.\"\"\"\n",
    "  # Create the directory for TensorBoard variables if there is not.\n",
    "  if not os.path.exists(log_dir):\n",
    "    os.makedirs(log_dir)\n",
    "\n",
    "  # Step 1: Download the data.\n",
    "  url = 'http://mattmahoney.net/dc/'\n",
    "\n",
    "  # pylint: disable=redefined-outer-name\n",
    "  def maybe_download(filename, expected_bytes):\n",
    "    \"\"\"Download a file if not present, and make sure it's the right size.\"\"\"\n",
    "    local_filename = os.path.join(gettempdir(), filename)\n",
    "    if not os.path.exists(local_filename):\n",
    "      local_filename, _ = urllib.request.urlretrieve(url + filename,\n",
    "                                                     local_filename)\n",
    "    statinfo = os.stat(local_filename)\n",
    "    if statinfo.st_size == expected_bytes:\n",
    "      print('Found and verified', filename)\n",
    "    else:     \n",
    "      print(statinfo.st_size)\n",
    "      raise Exception('Failed to verify ' + local_filename +\n",
    "                      '. Can you get to it with a browser?')\n",
    "    return local_filename\n",
    "\n",
    "  filename = maybe_download('text8.zip', 31344016)\n",
    "\n",
    "  # Read the data into a list of strings.\n",
    "  def read_data(filename):\n",
    "    \"\"\"Extract the first file enclosed in a zip file as a list of words.\"\"\"\n",
    "    with zipfile.ZipFile(filename) as f:\n",
    "      data = tf.compat.as_str(f.read(f.namelist()[0])).split()\n",
    "    return data\n",
    "\n",
    "  vocabulary = read_data(filename)\n",
    "  print('Data size', len(vocabulary))\n",
    "\n",
    "  # Step 2: Build the dictionary and replace rare words with UNK token.\n",
    "  vocabulary_size = 50000\n",
    "\n",
    "  def build_dataset(words, n_words):\n",
    "    \"\"\"Process raw inputs into a dataset.\"\"\"\n",
    "    count = [['UNK', -1]]\n",
    "    count.extend(collections.Counter(words).most_common(n_words - 1))\n",
    "    dictionary = dict()\n",
    "    for word, _ in count:\n",
    "      dictionary[word] = len(dictionary)\n",
    "    data = list()\n",
    "    unk_count = 0\n",
    "    for word in words:\n",
    "      index = dictionary.get(word, 0)\n",
    "      if index == 0:  # dictionary['UNK']\n",
    "        unk_count += 1\n",
    "      data.append(index)\n",
    "    count[0][1] = unk_count\n",
    "    reversed_dictionary = dict(zip(dictionary.values(), dictionary.keys()))\n",
    "    return data, count, dictionary, reversed_dictionary\n",
    "\n",
    "  # Filling 4 global variables:\n",
    "  # data - list of codes (integers from 0 to vocabulary_size-1).\n",
    "  #   This is the original text but words are replaced by their codes\n",
    "  # count - map of words(strings) to count of occurrences\n",
    "  # dictionary - map of words(strings) to their codes(integers)\n",
    "  # reverse_dictionary - maps codes(integers) to words(strings)\n",
    "  data, count, unused_dictionary, reverse_dictionary = build_dataset(\n",
    "      vocabulary, vocabulary_size)\n",
    "  del vocabulary  # Hint to reduce memory.\n",
    "  print('Most common words (+UNK)', count[:5])\n",
    "  print('Sample data', data[:10], [reverse_dictionary[i] for i in data[:10]])\n",
    "\n",
    "  # Step 3: Function to generate a training batch for the skip-gram model.\n",
    "  def generate_batch(batch_size, num_skips, skip_window):\n",
    "    global data_index\n",
    "    assert batch_size % num_skips == 0\n",
    "    assert num_skips <= 2 * skip_window\n",
    "    batch = np.ndarray(shape=(batch_size), dtype=np.int32)\n",
    "    labels = np.ndarray(shape=(batch_size, 1), dtype=np.int32)\n",
    "    span = 2 * skip_window + 1  # [ skip_window target skip_window ]\n",
    "    buffer = collections.deque(maxlen=span)  # pylint: disable=redefined-builtin\n",
    "    if data_index + span > len(data):\n",
    "      data_index = 0\n",
    "    buffer.extend(data[data_index:data_index + span])\n",
    "    data_index += span\n",
    "    for i in range(batch_size // num_skips):\n",
    "      context_words = [w for w in range(span) if w != skip_window]\n",
    "      words_to_use = random.sample(context_words, num_skips)\n",
    "      for j, context_word in enumerate(words_to_use):\n",
    "        batch[i * num_skips + j] = buffer[skip_window]\n",
    "        labels[i * num_skips + j, 0] = buffer[context_word]\n",
    "      if data_index == len(data):\n",
    "        buffer.extend(data[0:span])\n",
    "        data_index = span\n",
    "      else:\n",
    "        buffer.append(data[data_index])\n",
    "        data_index += 1\n",
    "    # Backtrack a little bit to avoid skipping words in the end of a batch\n",
    "    data_index = (data_index + len(data) - span) % len(data)\n",
    "    return batch, labels\n",
    "\n",
    "  batch, labels = generate_batch(batch_size=8, num_skips=2, skip_window=1)\n",
    "  for i in range(8):\n",
    "    print(batch[i], reverse_dictionary[batch[i]], '->', labels[i, 0],\n",
    "          reverse_dictionary[labels[i, 0]])\n",
    "\n",
    "  # Step 4: Build and train a skip-gram model.\n",
    "\n",
    "  batch_size = 128\n",
    "  embedding_size = 128  # Dimension of the embedding vector.\n",
    "  skip_window = 1  # How many words to consider left and right.\n",
    "  num_skips = 2  # How many times to reuse an input to generate a label.\n",
    "  num_sampled = 64  # Number of negative examples to sample.\n",
    "\n",
    "  # We pick a random validation set to sample nearest neighbors. Here we limit\n",
    "  # the validation samples to the words that have a low numeric ID, which by\n",
    "  # construction are also the most frequent. These 3 variables are used only for\n",
    "  # displaying model accuracy, they don't affect calculation.\n",
    "  valid_size = 16  # Random set of words to evaluate similarity on.\n",
    "  valid_window = 100  # Only pick dev samples in the head of the distribution.\n",
    "  valid_examples = np.random.choice(valid_window, valid_size, replace=False)\n",
    "\n",
    "  graph = tf.Graph()\n",
    "\n",
    "  with graph.as_default():\n",
    "\n",
    "    # Input data.\n",
    "    with tf.name_scope('inputs'):\n",
    "      train_inputs = tf.placeholder(tf.int32, shape=[batch_size])\n",
    "      train_labels = tf.placeholder(tf.int32, shape=[batch_size, 1])\n",
    "      valid_dataset = tf.constant(valid_examples, dtype=tf.int32)\n",
    "\n",
    "    # Ops and variables pinned to the CPU because of missing GPU implementation\n",
    "    with tf.device('/cpu:0'):\n",
    "      # Look up embeddings for inputs.\n",
    "      with tf.name_scope('embeddings'):\n",
    "        embeddings = tf.Variable(\n",
    "            tf.random_uniform([vocabulary_size, embedding_size], -1.0, 1.0))\n",
    "        embed = tf.nn.embedding_lookup(embeddings, train_inputs)\n",
    "\n",
    "      # Construct the variables for the NCE loss\n",
    "      with tf.name_scope('weights'):\n",
    "        nce_weights = tf.Variable(\n",
    "            tf.truncated_normal([vocabulary_size, embedding_size],\n",
    "                                stddev=1.0 / math.sqrt(embedding_size)))\n",
    "      with tf.name_scope('biases'):\n",
    "        nce_biases = tf.Variable(tf.zeros([vocabulary_size]))\n",
    "\n",
    "    # Compute the average NCE loss for the batch.\n",
    "    # tf.nce_loss automatically draws a new sample of the negative labels each\n",
    "    # time we evaluate the loss.\n",
    "    # Explanation of the meaning of NCE loss:\n",
    "    #   http://mccormickml.com/2016/04/19/word2vec-tutorial-the-skip-gram-model/\n",
    "    with tf.name_scope('loss'):\n",
    "      loss = tf.reduce_mean(\n",
    "          tf.nn.nce_loss(\n",
    "              weights=nce_weights,\n",
    "              biases=nce_biases,\n",
    "              labels=train_labels,\n",
    "              inputs=embed,\n",
    "              num_sampled=num_sampled,\n",
    "              num_classes=vocabulary_size))\n",
    "\n",
    "    # Add the loss value as a scalar to summary.\n",
    "    tf.summary.scalar('loss', loss)\n",
    "\n",
    "    # Construct the SGD optimizer using a learning rate of 1.0.\n",
    "    with tf.name_scope('optimizer'):\n",
    "      optimizer = tf.train.GradientDescentOptimizer(1.0).minimize(loss)\n",
    "\n",
    "    # Compute the cosine similarity between minibatch examples and all\n",
    "    # embeddings.\n",
    "    norm = tf.sqrt(tf.reduce_sum(tf.square(embeddings), 1, keepdims=True))\n",
    "    normalized_embeddings = embeddings / norm\n",
    "    valid_embeddings = tf.nn.embedding_lookup(normalized_embeddings,\n",
    "                                              valid_dataset)\n",
    "    similarity = tf.matmul(\n",
    "        valid_embeddings, normalized_embeddings, transpose_b=True)\n",
    "\n",
    "    # Merge all summaries.\n",
    "    merged = tf.summary.merge_all()\n",
    "\n",
    "    # Add variable initializer.\n",
    "    init = tf.global_variables_initializer()\n",
    "\n",
    "    # Create a saver.\n",
    "    saver = tf.train.Saver()\n",
    "\n",
    "  # Step 5: Begin training.\n",
    "  num_steps = 100001\n",
    "\n",
    "  with tf.Session(graph=graph) as session:\n",
    "    # Open a writer to write summaries.\n",
    "    writer = tf.summary.FileWriter(log_dir, session.graph)\n",
    "\n",
    "    # We must initialize all variables before we use them.\n",
    "    init.run()\n",
    "    print('Initialized')\n",
    "\n",
    "    average_loss = 0\n",
    "    for step in xrange(num_steps):\n",
    "      batch_inputs, batch_labels = generate_batch(batch_size, num_skips,\n",
    "                                                  skip_window)\n",
    "      feed_dict = {train_inputs: batch_inputs, train_labels: batch_labels}\n",
    "\n",
    "      # Define metadata variable.\n",
    "      run_metadata = tf.RunMetadata()\n",
    "\n",
    "      # We perform one update step by evaluating the optimizer op (including it\n",
    "      # in the list of returned values for session.run()\n",
    "      # Also, evaluate the merged op to get all summaries from the returned\n",
    "      # \"summary\" variable. Feed metadata variable to session for visualizing\n",
    "      # the graph in TensorBoard.\n",
    "      _, summary, loss_val = session.run([optimizer, merged, loss],\n",
    "                                         feed_dict=feed_dict,\n",
    "                                         run_metadata=run_metadata)\n",
    "      average_loss += loss_val\n",
    "\n",
    "      # Add returned summaries to writer in each step.\n",
    "      writer.add_summary(summary, step)\n",
    "      # Add metadata to visualize the graph for the last run.\n",
    "      if step == (num_steps - 1):\n",
    "        writer.add_run_metadata(run_metadata, 'step%d' % step)\n",
    "\n",
    "      if step % 2000 == 0:\n",
    "        if step > 0:\n",
    "          average_loss /= 2000\n",
    "        # The average loss is an estimate of the loss over the last 2000\n",
    "        # batches.\n",
    "        print('Average loss at step ', step, ': ', average_loss)\n",
    "        average_loss = 0\n",
    "\n",
    "      # Note that this is expensive (~20% slowdown if computed every 500 steps)\n",
    "      if step % 10000 == 0:\n",
    "        sim = similarity.eval()\n",
    "        for i in xrange(valid_size):\n",
    "          valid_word = reverse_dictionary[valid_examples[i]]\n",
    "          top_k = 8  # number of nearest neighbors\n",
    "          nearest = (-sim[i, :]).argsort()[1:top_k + 1]\n",
    "          log_str = 'Nearest to %s:' % valid_word\n",
    "          for k in xrange(top_k):\n",
    "            close_word = reverse_dictionary[nearest[k]]\n",
    "            log_str = '%s %s,' % (log_str, close_word)\n",
    "          print(log_str)\n",
    "    final_embeddings = normalized_embeddings.eval()\n",
    "\n",
    "    # Write corresponding labels for the embeddings.\n",
    "    with open(log_dir + '/metadata.tsv', 'w') as f:\n",
    "      for i in xrange(vocabulary_size):\n",
    "        f.write(reverse_dictionary[i] + '\\n')\n",
    "\n",
    "    # Save the model for checkpoints.\n",
    "    saver.save(session, os.path.join(log_dir, 'model.ckpt'))\n",
    "\n",
    "    # Create a configuration for visualizing embeddings with the labels in\n",
    "    # TensorBoard.\n",
    "    config = projector.ProjectorConfig()\n",
    "    embedding_conf = config.embeddings.add()\n",
    "    embedding_conf.tensor_name = embeddings.name\n",
    "    embedding_conf.metadata_path = os.path.join(log_dir, 'metadata.tsv')\n",
    "    projector.visualize_embeddings(writer, config)\n",
    "\n",
    "  writer.close()\n",
    "\n",
    "  # Step 6: Visualize the embeddings.\n",
    "\n",
    "  # pylint: disable=missing-docstring\n",
    "  # Function to draw visualization of distance between embeddings.\n",
    "  def plot_with_labels(low_dim_embs, labels, filename):\n",
    "    assert low_dim_embs.shape[0] >= len(labels), 'More labels than embeddings'\n",
    "    plt.figure(figsize=(18, 18))  # in inches\n",
    "    for i, label in enumerate(labels):\n",
    "      x, y = low_dim_embs[i, :]\n",
    "      plt.scatter(x, y)\n",
    "      plt.annotate(\n",
    "          label,\n",
    "          xy=(x, y),\n",
    "          xytext=(5, 2),\n",
    "          textcoords='offset points',\n",
    "          ha='right',\n",
    "          va='bottom')\n",
    "\n",
    "    plt.savefig(filename)\n",
    "\n",
    "  try:\n",
    "    # pylint: disable=g-import-not-at-top\n",
    "    from sklearn.manifold import TSNE\n",
    "    import matplotlib.pyplot as plt\n",
    "\n",
    "    tsne = TSNE(\n",
    "        perplexity=30, n_components=2, init='pca', n_iter=5000, method='exact')\n",
    "    plot_only = 500\n",
    "    low_dim_embs = tsne.fit_transform(final_embeddings[:plot_only, :])\n",
    "    labels = [reverse_dictionary[i] for i in xrange(plot_only)]\n",
    "    plot_with_labels(low_dim_embs, labels, os.path.join(gettempdir(),\n",
    "                                                        'tsne.png'))\n",
    "\n",
    "  except ImportError as ex:\n",
    "    print('Please install sklearn, matplotlib, and scipy to show embeddings.')\n",
    "    print(ex)\n",
    "\n",
    "\n",
    "# All functionality is run after tf.app.run() (b/122547914). This could be split\n",
    "# up but the methods are laid sequentially with their usage for clarity.\n",
    "def main(unused_argv):\n",
    "  # Give a folder path as an argument with '--log_dir' to save\n",
    "  # TensorBoard summaries. Default is a log folder in current directory.\n",
    "  current_path = os.path.dirname(os.path.realpath(sys.argv[0]))\n",
    "\n",
    "  parser = argparse.ArgumentParser()\n",
    "  parser.add_argument(\n",
    "      '--log_dir',\n",
    "      type=str,\n",
    "      default=os.path.join(current_path, 'log'),\n",
    "      help='The log directory for TensorBoard summaries.')\n",
    "  flags, unused_flags = parser.parse_known_args()\n",
    "  word2vec_basic(flags.log_dir)\n",
    "\n",
    "\n"
   ]
  },
  {
   "cell_type": "code",
   "execution_count": 2,
   "metadata": {
    "autoscroll": false,
    "collapsed": false,
    "ein.hycell": false,
    "ein.tags": "worksheet-0",
    "slideshow": {
     "slide_type": "-"
    }
   },
   "outputs": [
    {
     "name": "stdout",
     "output_type": "stream",
     "text": [
      "Found and verified text8.zip\n"
     ]
    },
    {
     "name": "stdout",
     "output_type": "stream",
     "text": [
      "Data size 17005207\n"
     ]
    },
    {
     "name": "stdout",
     "output_type": "stream",
     "text": [
      "Most common words (+UNK) [['UNK', 418391], ('the', 1061396), ('of', 593677), ('and', 416629), ('one', 411764)]\n",
      "Sample data [5234, 3081, 12, 6, 195, 2, 3134, 46, 59, 156] ['anarchism', 'originated', 'as', 'a', 'term', 'of', 'abuse', 'first', 'used', 'against']\n",
      "3081 originated -> 12 as\n",
      "3081 originated -> 5234 anarchism\n",
      "12 as -> 6 a\n",
      "12 as -> 3081 originated\n",
      "6 a -> 12 as\n",
      "6 a -> 195 term\n",
      "195 term -> 2 of\n",
      "195 term -> 6 a\n"
     ]
    },
    {
     "name": "stdout",
     "output_type": "stream",
     "text": [
      "Initialized\n",
      "Average loss at step  0 :  275.5062255859375\n",
      "Nearest to th: breeder, chroniclers, senex, koizumi, passers, differed, actuality, magician,\n",
      "Nearest to united: peake, keyboard, consummated, instructing, seditious, bavarians, eurosceptic, sufficiently,\n",
      "Nearest to than: toffler, undulating, crimson, bremer, impacting, neapolitan, cincinnati, dredging,\n",
      "Nearest to s: phantom, skinned, homeschooling, veterans, missouri, decreased, harald, srinagar,\n",
      "Nearest to be: classifies, tad, rearranging, cession, argos, eostre, inelastic, goggles,\n",
      "Nearest to two: piece, nymph, flared, infallible, diesels, praxis, knapsack, agreements,\n",
      "Nearest to has: idol, dreidel, stereoisomers, inelastic, fia, jules, pellucidar, fv,\n",
      "Nearest to over: terrell, sponsored, best, fashion, capitalization, prometheus, scripts, australis,\n",
      "Nearest to also: modernizing, commentators, ranjit, inanna, chaldea, amati, trilobites, joint,\n",
      "Nearest to other: macroscopic, lifespan, dive, ourselves, tucson, ablaut, heyerdahl, nonverbal,\n",
      "Nearest to up: conquerors, banister, spat, ratifying, clockless, comparatively, distributions, times,\n",
      "Nearest to use: balancing, budo, lafayette, cowl, przewodnicz, jorge, absorbed, airports,\n",
      "Nearest to these: pb, fudge, better, seismology, outskirts, jacobite, tonal, galois,\n",
      "Nearest to such: highlighting, can, zanzibar, suppressive, occurrences, lexical, superconductor, irreducible,\n",
      "Nearest to five: wicked, baggins, dodgers, burke, prez, awe, imo, neoplatonist,\n",
      "Nearest to that: proclaimed, sarcastic, technique, pope, var, bornu, marley, benin,\n"
     ]
    },
    {
     "name": "stdout",
     "output_type": "stream",
     "text": [
      "Average loss at step  2000 :  113.56282890415191\n"
     ]
    },
    {
     "name": "stdout",
     "output_type": "stream",
     "text": [
      "Average loss at step  4000 :  52.77377490878105\n"
     ]
    },
    {
     "name": "stdout",
     "output_type": "stream",
     "text": [
      "Average loss at step  6000 :  33.4376979393959\n"
     ]
    },
    {
     "name": "stdout",
     "output_type": "stream",
     "text": [
      "Average loss at step  8000 :  23.34735692024231\n"
     ]
    },
    {
     "name": "stdout",
     "output_type": "stream",
     "text": [
      "Average loss at step  10000 :  17.907435940384865\n",
      "Nearest to th: one, molinari, slave, eight, equipped, borrow, ads, russell,\n",
      "Nearest to united: scored, keyboard, instructing, louis, car, bavarians, christian, archie,\n",
      "Nearest to than: toffler, cincinnati, canaris, add, two, wikibooks, conceived, exploration,\n",
      "Nearest to s: and, veterans, of, the, equilibrium, aberdeenshire, missouri, examines,\n",
      "Nearest to be: have, database, communal, lymphoma, thirteenth, is, classifies, seo,\n",
      "Nearest to two: one, zero, nine, eight, coke, three, km, UNK,\n",
      "Nearest to has: is, coming, gaseous, and, was, jules, in, nhra,\n",
      "Nearest to over: best, sponsored, decade, town, impressive, alternative, fashion, agave,\n",
      "Nearest to also: feminist, letters, prized, widespread, joint, service, bang, lymphoma,\n",
      "Nearest to other: fins, lifespan, population, class, ho, ourselves, differ, insisted,\n",
      "Nearest to up: references, times, comparatively, banister, looks, particles, false, von,\n",
      "Nearest to use: lafayette, balancing, basins, budo, truth, remains, summers, molinari,\n",
      "Nearest to these: better, ascii, reduced, convention, vs, carbine, agave, expression,\n",
      "Nearest to such: fins, can, zanzibar, main, routes, springfield, duty, israel,\n",
      "Nearest to five: eight, nine, zero, four, seven, lnot, jpg, six,\n",
      "Nearest to that: unification, but, untrue, blitz, conquer, proclaimed, hell, and,\n"
     ]
    },
    {
     "name": "stdout",
     "output_type": "stream",
     "text": [
      "Average loss at step  12000 :  14.247750891923904\n"
     ]
    },
    {
     "name": "stdout",
     "output_type": "stream",
     "text": [
      "Average loss at step  14000 :  11.624572651028632\n"
     ]
    },
    {
     "name": "stdout",
     "output_type": "stream",
     "text": [
      "Average loss at step  16000 :  10.033084413290023\n"
     ]
    },
    {
     "name": "stdout",
     "output_type": "stream",
     "text": [
      "Average loss at step  18000 :  8.564940582990646\n"
     ]
    },
    {
     "name": "stdout",
     "output_type": "stream",
     "text": [
      "Average loss at step  20000 :  8.064424519777297\n",
      "Nearest to th: eight, one, molinari, chroniclers, marines, breeder, michigan, borrow,\n",
      "Nearest to united: keyboard, scored, consummated, instructing, louis, car, arose, parliaments,\n",
      "Nearest to than: toffler, backslash, add, and, or, ibos, cincinnati, canaris,\n",
      "Nearest to s: and, veterans, the, of, zero, his, circ, or,\n",
      "Nearest to be: have, is, was, communal, by, naturalists, database, thirteenth,\n",
      "Nearest to two: one, three, eight, five, dasyprocta, four, zero, six,\n",
      "Nearest to has: is, was, had, amiable, gaseous, have, trapezohedron, coming,\n",
      "Nearest to over: best, sponsored, hbox, decade, terrell, and, town, alternative,\n",
      "Nearest to also: feminist, it, prized, joint, which, apatosaurus, anisotropy, recordings,\n",
      "Nearest to other: fins, operatorname, insisted, acacia, vaccines, lifespan, population, macroscopic,\n",
      "Nearest to up: references, comparatively, banister, sancti, dope, alcibiades, canonical, archimedean,\n",
      "Nearest to use: basins, balancing, lafayette, budo, truth, jorge, summers, molinari,\n",
      "Nearest to these: wcw, the, convention, galois, acacia, his, some, and,\n",
      "Nearest to such: zanzibar, fins, can, subkey, antoninus, operatorname, flammable, routes,\n",
      "Nearest to five: eight, nine, zero, six, two, four, seven, three,\n",
      "Nearest to that: but, hell, this, unification, which, haider, turkmenistan, and,\n"
     ]
    },
    {
     "name": "stdout",
     "output_type": "stream",
     "text": [
      "Average loss at step  22000 :  6.9623263918161395\n"
     ]
    },
    {
     "name": "stdout",
     "output_type": "stream",
     "text": [
      "Average loss at step  24000 :  6.964725037455559\n"
     ]
    },
    {
     "name": "stdout",
     "output_type": "stream",
     "text": [
      "Average loss at step  26000 :  6.774261701703072\n"
     ]
    },
    {
     "name": "stdout",
     "output_type": "stream",
     "text": [
      "Average loss at step  28000 :  6.320326884865761\n"
     ]
    },
    {
     "name": "stdout",
     "output_type": "stream",
     "text": [
      "Average loss at step  30000 :  5.970973012447357\n",
      "Nearest to th: eight, molinari, chroniclers, marines, two, nine, breeder, fertile,\n",
      "Nearest to united: reuptake, keyboard, scored, instructing, consummated, car, parliaments, louis,\n",
      "Nearest to than: toffler, or, add, backslash, amalthea, ibos, and, neapolitan,\n",
      "Nearest to s: and, his, zero, veterans, two, or, the, six,\n",
      "Nearest to be: have, is, was, by, communal, ely, analysed, naturalists,\n",
      "Nearest to two: three, four, six, one, five, eight, dasyprocta, zero,\n",
      "Nearest to has: had, is, was, have, gaseous, trapezohedron, amiable, coming,\n",
      "Nearest to over: best, sponsored, hbox, on, terrell, alternative, enhancing, decade,\n",
      "Nearest to also: it, which, prized, feminist, airshow, accountant, that, lymphoma,\n",
      "Nearest to other: tucson, fins, operatorname, insisted, acacia, otimes, mag, vaccines,\n",
      "Nearest to up: otimes, comparatively, references, dope, him, conquerors, archimedean, banister,\n",
      "Nearest to use: basins, balancing, summers, martyrs, molinari, budo, truth, lafayette,\n",
      "Nearest to these: some, the, wcw, convention, albuquerque, acts, acacia, dasyprocta,\n",
      "Nearest to such: subkey, irreducible, zanzibar, fins, antoninus, opteron, can, please,\n",
      "Nearest to five: six, eight, four, zero, nine, seven, three, two,\n",
      "Nearest to that: which, this, but, hell, digs, unification, turkmenistan, haider,\n"
     ]
    },
    {
     "name": "stdout",
     "output_type": "stream",
     "text": [
      "Average loss at step  32000 :  5.972531417250633\n"
     ]
    },
    {
     "name": "stdout",
     "output_type": "stream",
     "text": [
      "Average loss at step  34000 :  5.670918852448463\n"
     ]
    },
    {
     "name": "stdout",
     "output_type": "stream",
     "text": [
      "Average loss at step  36000 :  5.758019926190376\n"
     ]
    },
    {
     "name": "stdout",
     "output_type": "stream",
     "text": [
      "Average loss at step  38000 :  5.511159575223923\n"
     ]
    },
    {
     "name": "stdout",
     "output_type": "stream",
     "text": [
      "Average loss at step  40000 :  5.301835968375206\n",
      "Nearest to th: eight, zero, six, molinari, chroniclers, two, nine, senex,\n",
      "Nearest to united: reuptake, keyboard, scored, instructing, bavarians, albury, consummated, parliaments,\n",
      "Nearest to than: or, toffler, backslash, amalthea, add, ibos, neapolitan, capability,\n",
      "Nearest to s: and, veterans, his, zero, two, the, david, circ,\n",
      "Nearest to be: have, is, was, by, been, communal, analysed, ely,\n",
      "Nearest to two: three, one, four, five, six, eight, zero, seven,\n",
      "Nearest to has: had, was, is, have, trapezohedron, albury, gaseous, faso,\n",
      "Nearest to over: best, sponsored, promoter, enhancing, on, hbox, terrell, protects,\n",
      "Nearest to also: which, it, that, recitative, prized, accountant, airshow, feminist,\n",
      "Nearest to other: tucson, fins, operatorname, insisted, command, acacia, mag, reuptake,\n",
      "Nearest to up: otimes, him, out, comparatively, dope, references, conquerors, disabilities,\n",
      "Nearest to use: basins, molinari, martyrs, balancing, summers, budo, truth, appomattox,\n",
      "Nearest to these: some, wcw, all, the, convention, albuquerque, acts, their,\n",
      "Nearest to such: well, known, irreducible, subkey, please, everywhere, can, zanzibar,\n",
      "Nearest to five: four, zero, six, eight, three, seven, nine, two,\n",
      "Nearest to that: which, this, but, hell, there, turkmenistan, it, what,\n"
     ]
    },
    {
     "name": "stdout",
     "output_type": "stream",
     "text": [
      "Average loss at step  42000 :  5.344022329211235\n"
     ]
    },
    {
     "name": "stdout",
     "output_type": "stream",
     "text": [
      "Average loss at step  44000 :  5.219912086963654\n"
     ]
    },
    {
     "name": "stdout",
     "output_type": "stream",
     "text": [
      "Average loss at step  46000 :  5.2491682794094086\n"
     ]
    },
    {
     "name": "stdout",
     "output_type": "stream",
     "text": [
      "Average loss at step  48000 :  5.224814400315284\n"
     ]
    },
    {
     "name": "stdout",
     "output_type": "stream",
     "text": [
      "Average loss at step  50000 :  4.973896819710731\n",
      "Nearest to th: eight, six, chroniclers, one, molinari, nine, zero, marines,\n",
      "Nearest to united: reuptake, keyboard, parliaments, bavarians, instructing, scored, albury, louis,\n",
      "Nearest to than: or, toffler, amalthea, backslash, and, add, environmentally, neapolitan,\n",
      "Nearest to s: his, and, the, of, zero, veterans, tackle, four,\n",
      "Nearest to be: have, is, was, by, been, were, analysed, ely,\n",
      "Nearest to two: three, four, one, six, five, dasyprocta, seven, eight,\n",
      "Nearest to has: had, is, was, have, trapezohedron, albury, gaseous, faso,\n",
      "Nearest to over: sponsored, best, promoter, on, pitching, terrell, protects, four,\n",
      "Nearest to also: which, it, still, often, that, aberdeenshire, prized, accountant,\n",
      "Nearest to other: tucson, mag, fins, insisted, command, acacia, operatorname, reuptake,\n",
      "Nearest to up: out, otimes, him, comparatively, dots, them, dope, cheaply,\n",
      "Nearest to use: martyrs, roshan, molinari, basins, summers, appomattox, trapezohedron, basis,\n",
      "Nearest to these: some, all, the, wcw, their, mukherjee, acts, they,\n",
      "Nearest to such: well, known, irreducible, subkey, please, these, everywhere, opteron,\n",
      "Nearest to five: six, four, three, eight, seven, two, zero, dasyprocta,\n",
      "Nearest to that: which, this, but, hell, what, digs, it, turkmenistan,\n"
     ]
    },
    {
     "name": "stdout",
     "output_type": "stream",
     "text": [
      "Average loss at step  52000 :  5.065765946507454\n"
     ]
    },
    {
     "name": "stdout",
     "output_type": "stream",
     "text": [
      "Average loss at step  54000 :  5.1847815514802935\n"
     ]
    },
    {
     "name": "stdout",
     "output_type": "stream",
     "text": [
      "Average loss at step  56000 :  5.051638772130013\n"
     ]
    },
    {
     "name": "stdout",
     "output_type": "stream",
     "text": [
      "Average loss at step  58000 :  5.049841791749\n"
     ]
    },
    {
     "name": "stdout",
     "output_type": "stream",
     "text": [
      "Average loss at step  60000 :  4.951089532136917\n",
      "Nearest to th: eight, six, five, nine, four, breeder, chroniclers, molinari,\n",
      "Nearest to united: reuptake, keyboard, albury, parliaments, bavarians, car, louis, instructing,\n",
      "Nearest to than: or, toffler, amalthea, backslash, environmentally, add, neapolitan, capability,\n",
      "Nearest to s: his, zero, and, ursus, circ, tackle, renouf, pulau,\n",
      "Nearest to be: have, been, was, by, is, analysed, refer, ely,\n",
      "Nearest to two: three, four, one, six, five, dasyprocta, eight, reddy,\n",
      "Nearest to has: had, was, have, is, trapezohedron, albury, gaseous, faso,\n",
      "Nearest to over: sponsored, best, on, promoter, four, pitching, five, protects,\n",
      "Nearest to also: which, it, still, that, recitative, prized, aberdeenshire, often,\n",
      "Nearest to other: mag, tucson, three, many, acacia, stanshall, fins, insisted,\n",
      "Nearest to up: out, him, otimes, them, comparatively, cheaply, dots, mantra,\n",
      "Nearest to use: martyrs, molinari, roshan, basins, appomattox, summers, trapezohedron, basis,\n",
      "Nearest to these: some, all, their, wcw, such, many, the, they,\n",
      "Nearest to such: well, known, these, irreducible, please, subkey, everywhere, opteron,\n",
      "Nearest to five: six, four, eight, three, seven, nine, zero, dasyprocta,\n",
      "Nearest to that: which, this, but, digs, what, hell, unification, there,\n"
     ]
    },
    {
     "name": "stdout",
     "output_type": "stream",
     "text": [
      "Average loss at step  62000 :  5.0246215391159055\n"
     ]
    },
    {
     "name": "stdout",
     "output_type": "stream",
     "text": [
      "Average loss at step  64000 :  4.863810496687889\n"
     ]
    },
    {
     "name": "stdout",
     "output_type": "stream",
     "text": [
      "Average loss at step  66000 :  4.609608381986618\n"
     ]
    },
    {
     "name": "stdout",
     "output_type": "stream",
     "text": [
      "Average loss at step  68000 :  4.975918267130852\n"
     ]
    },
    {
     "name": "stdout",
     "output_type": "stream",
     "text": [
      "Average loss at step  70000 :  4.897445597529411\n",
      "Nearest to th: eight, six, chroniclers, breeder, five, nine, three, marines,\n",
      "Nearest to united: reuptake, parliaments, tamarin, albury, keyboard, car, bavarians, dormant,\n",
      "Nearest to than: or, toffler, amalthea, backslash, environmentally, add, and, frankly,\n",
      "Nearest to s: his, and, beastie, renouf, tackle, anchored, ursus, microcebus,\n",
      "Nearest to be: been, have, by, refer, was, analysed, ely, is,\n",
      "Nearest to two: three, four, six, five, one, eight, seven, dasyprocta,\n",
      "Nearest to has: had, have, was, is, trapezohedron, albury, gaseous, ineffable,\n",
      "Nearest to over: mitral, promoter, best, on, sponsored, four, pitching, protects,\n",
      "Nearest to also: which, still, it, often, now, leontopithecus, callithrix, sometimes,\n",
      "Nearest to other: many, mag, some, different, insisted, stanshall, various, tucson,\n",
      "Nearest to up: him, out, them, otimes, cheaply, comparatively, mantra, dots,\n",
      "Nearest to use: martyrs, molinari, appomattox, mitral, basins, roshan, summers, basis,\n",
      "Nearest to these: some, all, many, they, such, their, which, the,\n",
      "Nearest to such: well, these, known, other, subkey, please, irreducible, everywhere,\n",
      "Nearest to five: six, four, three, eight, seven, zero, two, nine,\n",
      "Nearest to that: which, this, what, but, hell, digs, there, unification,\n"
     ]
    },
    {
     "name": "stdout",
     "output_type": "stream",
     "text": [
      "Average loss at step  72000 :  4.754181856274605\n"
     ]
    },
    {
     "name": "stdout",
     "output_type": "stream",
     "text": [
      "Average loss at step  74000 :  4.8085017256736755\n"
     ]
    },
    {
     "name": "stdout",
     "output_type": "stream",
     "text": [
      "Average loss at step  76000 :  4.719898520708084\n"
     ]
    },
    {
     "name": "stdout",
     "output_type": "stream",
     "text": [
      "Average loss at step  78000 :  4.809274360358715\n"
     ]
    },
    {
     "name": "stdout",
     "output_type": "stream",
     "text": [
      "Average loss at step  80000 :  4.796544206976891\n",
      "Nearest to th: six, eight, nine, chroniclers, breeder, five, borrow, marines,\n",
      "Nearest to united: reuptake, parliaments, car, bavarians, louis, tamarin, albury, dormant,\n",
      "Nearest to than: or, backslash, and, amalthea, toffler, environmentally, add, frankly,\n",
      "Nearest to s: his, zero, beastie, five, circ, tackle, iit, busan,\n",
      "Nearest to be: been, have, by, was, were, refer, is, analysed,\n",
      "Nearest to two: three, four, five, six, one, seven, dasyprocta, eight,\n",
      "Nearest to has: had, have, was, is, trapezohedron, albury, gaseous, ineffable,\n",
      "Nearest to over: mitral, promoter, on, best, sponsored, pitching, protects, enhancing,\n",
      "Nearest to also: which, still, often, it, sometimes, now, prized, callithrix,\n",
      "Nearest to other: many, various, different, stanshall, mag, some, insisted, acacia,\n",
      "Nearest to up: out, him, them, otimes, comparatively, cheaply, mantra, dots,\n",
      "Nearest to use: martyrs, appomattox, molinari, summers, basis, tamarin, mitral, roshan,\n",
      "Nearest to these: some, all, many, such, which, their, they, microcebus,\n",
      "Nearest to such: well, these, known, other, regarded, please, subkey, everywhere,\n",
      "Nearest to five: six, four, seven, three, eight, zero, two, nine,\n",
      "Nearest to that: which, this, but, what, hell, digs, when, however,\n"
     ]
    },
    {
     "name": "stdout",
     "output_type": "stream",
     "text": [
      "Average loss at step  82000 :  4.764600761771202\n"
     ]
    },
    {
     "name": "stdout",
     "output_type": "stream",
     "text": [
      "Average loss at step  84000 :  4.729135670661926\n"
     ]
    },
    {
     "name": "stdout",
     "output_type": "stream",
     "text": [
      "Average loss at step  86000 :  4.7773123524189\n"
     ]
    },
    {
     "name": "stdout",
     "output_type": "stream",
     "text": [
      "Average loss at step  88000 :  4.7431066297292706\n"
     ]
    },
    {
     "name": "stdout",
     "output_type": "stream",
     "text": [
      "Average loss at step  90000 :  4.7670251888036725\n",
      "Nearest to th: eight, six, nine, breeder, five, seven, chroniclers, borrow,\n",
      "Nearest to united: reuptake, parliaments, albury, tamarin, louis, car, keyboard, dormant,\n",
      "Nearest to than: or, amalthea, backslash, environmentally, toffler, frankly, add, and,\n",
      "Nearest to s: his, tackle, and, beastie, microcebus, six, zero, circ,\n",
      "Nearest to be: been, have, was, by, refer, were, is, analysed,\n",
      "Nearest to two: three, four, five, one, six, seven, eight, dasyprocta,\n",
      "Nearest to has: had, have, was, is, trapezohedron, dreidel, ineffable, albury,\n",
      "Nearest to over: mitral, jati, promoter, on, best, pitching, sponsored, rudolph,\n",
      "Nearest to also: which, still, often, now, sometimes, it, cen, aberdeenshire,\n",
      "Nearest to other: many, various, different, some, stanshall, mag, acacia, tucson,\n",
      "Nearest to up: out, him, them, otimes, comparatively, cheaply, off, busan,\n",
      "Nearest to use: basis, appomattox, martyrs, molinari, summers, mico, trapezohedron, chymotrypsin,\n",
      "Nearest to these: some, all, many, such, which, their, several, they,\n",
      "Nearest to such: well, these, known, regarded, other, many, everywhere, subkey,\n",
      "Nearest to five: four, seven, six, eight, three, zero, nine, two,\n",
      "Nearest to that: which, this, but, what, however, unification, digs, turkmenistan,\n"
     ]
    },
    {
     "name": "stdout",
     "output_type": "stream",
     "text": [
      "Average loss at step  92000 :  4.6707258099317555\n"
     ]
    },
    {
     "name": "stdout",
     "output_type": "stream",
     "text": [
      "Average loss at step  94000 :  4.733905524849892\n"
     ]
    },
    {
     "name": "stdout",
     "output_type": "stream",
     "text": [
      "Average loss at step  96000 :  4.678418792963028\n"
     ]
    },
    {
     "name": "stdout",
     "output_type": "stream",
     "text": [
      "Average loss at step  98000 :  4.588950929403305\n"
     ]
    },
    {
     "name": "stdout",
     "output_type": "stream",
     "text": [
      "Average loss at step  100000 :  4.688749561667442\n",
      "Nearest to th: eight, six, nine, breeder, chroniclers, borrow, marines, seven,\n",
      "Nearest to united: reuptake, parliaments, tamarin, albury, keyboard, dormant, louis, restriction,\n",
      "Nearest to than: or, stenella, backslash, amalthea, frankly, environmentally, toffler, mtsho,\n",
      "Nearest to s: his, circ, microcebus, and, beastie, ursus, iit, tackle,\n",
      "Nearest to be: been, have, refer, by, is, was, were, analysed,\n",
      "Nearest to two: three, four, five, six, seven, one, eight, dasyprocta,\n",
      "Nearest to has: had, have, was, is, trapezohedron, dreidel, albury, maeshowe,\n",
      "Nearest to over: mitral, promoter, jati, pitching, topol, on, rudolph, masorti,\n",
      "Nearest to also: which, still, often, now, sometimes, it, aberdeenshire, leontopithecus,\n",
      "Nearest to other: various, many, mag, different, stanshall, including, acacia, some,\n",
      "Nearest to up: out, him, them, off, cheaply, otimes, comparatively, failures,\n",
      "Nearest to use: basis, appomattox, trapezohedron, molinari, summers, martyrs, mico, roshan,\n",
      "Nearest to these: some, many, all, such, several, their, they, which,\n",
      "Nearest to such: well, these, known, many, regarded, other, subkey, opteron,\n",
      "Nearest to five: four, seven, three, eight, six, two, zero, nine,\n",
      "Nearest to that: which, what, this, but, however, unification, digs, hell,\n"
     ]
    },
    {
     "ename": "SystemExit",
     "evalue": "",
     "output_type": "error",
     "traceback": [
      "An exception has occurred, use %tb to see the full traceback.\n",
      "\u001b[0;31mSystemExit\u001b[0m\n"
     ]
    },
    {
     "name": "stderr",
     "output_type": "stream",
     "text": [
      "/anaconda3/envs/py36spark21/lib/python3.6/site-packages/IPython/core/interactiveshell.py:2971: UserWarning: To exit: use 'exit', 'quit', or Ctrl-D.\n",
      "  warn(\"To exit: use 'exit', 'quit', or Ctrl-D.\", stacklevel=1)\n"
     ]
    },
    {
     "ename": "SystemExit",
     "evalue": "",
     "output_type": "error",
     "traceback": [
      "An exception has occurred, use %tb to see the full traceback.\n",
      "\u001b[0;31mSystemExit\u001b[0m\n"
     ]
    }
   ],
   "source": [
    "tf.app.run()"
   ]
  }
 ],
 "metadata": {
  "kernelspec": {
   "argv": [
    "/home/vincent/.pyenv/shims/python3",
    "-m",
    "ipykernel",
    "-f",
    "{connection_file}"
   ],
   "display_name": "Python3",
   "env": null,
   "language": "python",
   "name": "python3"
  },
  "name": "tensorflow-word2vec.ipynb",
  "nikola": {
   "category": "",
   "date": "2019-01-24 14:52:32 UTC+08:00",
   "description": "",
   "link": "",
   "slug": "tensorflow-word2vec",
   "tags": "draft",
   "title": "tensorflow word2vec",
   "type": "text"
  }
 },
 "nbformat": 4,
 "nbformat_minor": 2
}
